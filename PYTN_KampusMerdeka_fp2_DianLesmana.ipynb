{
 "cells": [
  {
   "cell_type": "markdown",
   "id": "45578dfe",
   "metadata": {},
   "source": [
    "# Memprediksi Hujan di Australia"
   ]
  },
  {
   "cell_type": "markdown",
   "id": "a6081270",
   "metadata": {},
   "source": [
    "#pada final project kedua ini peserta diharapkan mampu membuat sebuah model yang dapat memprediksi terjadinya hujan di australia. data yang digunakan berasal dari kaggle yang memiliki 23 atribut dengan kolom RainTomorrow adalah target variable yang akan diprediksi. Jika “Yes” maka besok harinya disana hujan 1mm atau lebih."
   ]
  },
  {
   "cell_type": "markdown",
   "id": "31c741d9",
   "metadata": {},
   "source": [
    "# Import packgae yang diperlukan"
   ]
  },
  {
   "cell_type": "code",
   "execution_count": 1,
   "id": "9e3aa4ac",
   "metadata": {},
   "outputs": [],
   "source": [
    "#melakukan import package yang diperlukan\n",
    "import pandas as pd\n",
    "import numpy as np\n",
    "import matplotlib as mpl\n",
    "import matplotlib.pyplot as plt\n",
    "from sklearn.model_selection import train_test_split\n",
    "from sklearn import preprocessing\n",
    "from sklearn import svm\n",
    "from sklearn.preprocessing import StandardScaler\n",
    "from sklearn import metrics"
   ]
  },
  {
   "cell_type": "markdown",
   "id": "48d2f643",
   "metadata": {},
   "source": [
    "# Data Loading"
   ]
  },
  {
   "cell_type": "code",
   "execution_count": 2,
   "id": "55ba07ac",
   "metadata": {},
   "outputs": [],
   "source": [
    "#Data loading\n",
    "data = pd.read_csv(\"weatherAUS.csv\")"
   ]
  },
  {
   "cell_type": "code",
   "execution_count": 3,
   "id": "e7ad2846",
   "metadata": {},
   "outputs": [
    {
     "data": {
      "text/html": [
       "<div>\n",
       "<style scoped>\n",
       "    .dataframe tbody tr th:only-of-type {\n",
       "        vertical-align: middle;\n",
       "    }\n",
       "\n",
       "    .dataframe tbody tr th {\n",
       "        vertical-align: top;\n",
       "    }\n",
       "\n",
       "    .dataframe thead th {\n",
       "        text-align: right;\n",
       "    }\n",
       "</style>\n",
       "<table border=\"1\" class=\"dataframe\">\n",
       "  <thead>\n",
       "    <tr style=\"text-align: right;\">\n",
       "      <th></th>\n",
       "      <th>Date</th>\n",
       "      <th>Location</th>\n",
       "      <th>MinTemp</th>\n",
       "      <th>MaxTemp</th>\n",
       "      <th>Rainfall</th>\n",
       "      <th>Evaporation</th>\n",
       "      <th>Sunshine</th>\n",
       "      <th>WindGustDir</th>\n",
       "      <th>WindGustSpeed</th>\n",
       "      <th>WindDir9am</th>\n",
       "      <th>...</th>\n",
       "      <th>Humidity9am</th>\n",
       "      <th>Humidity3pm</th>\n",
       "      <th>Pressure9am</th>\n",
       "      <th>Pressure3pm</th>\n",
       "      <th>Cloud9am</th>\n",
       "      <th>Cloud3pm</th>\n",
       "      <th>Temp9am</th>\n",
       "      <th>Temp3pm</th>\n",
       "      <th>RainToday</th>\n",
       "      <th>RainTomorrow</th>\n",
       "    </tr>\n",
       "  </thead>\n",
       "  <tbody>\n",
       "    <tr>\n",
       "      <th>0</th>\n",
       "      <td>2008-12-01</td>\n",
       "      <td>Albury</td>\n",
       "      <td>13.4</td>\n",
       "      <td>22.9</td>\n",
       "      <td>0.6</td>\n",
       "      <td>NaN</td>\n",
       "      <td>NaN</td>\n",
       "      <td>W</td>\n",
       "      <td>44.0</td>\n",
       "      <td>W</td>\n",
       "      <td>...</td>\n",
       "      <td>71.0</td>\n",
       "      <td>22.0</td>\n",
       "      <td>1007.7</td>\n",
       "      <td>1007.1</td>\n",
       "      <td>8.0</td>\n",
       "      <td>NaN</td>\n",
       "      <td>16.9</td>\n",
       "      <td>21.8</td>\n",
       "      <td>No</td>\n",
       "      <td>No</td>\n",
       "    </tr>\n",
       "    <tr>\n",
       "      <th>1</th>\n",
       "      <td>2008-12-02</td>\n",
       "      <td>Albury</td>\n",
       "      <td>7.4</td>\n",
       "      <td>25.1</td>\n",
       "      <td>0.0</td>\n",
       "      <td>NaN</td>\n",
       "      <td>NaN</td>\n",
       "      <td>WNW</td>\n",
       "      <td>44.0</td>\n",
       "      <td>NNW</td>\n",
       "      <td>...</td>\n",
       "      <td>44.0</td>\n",
       "      <td>25.0</td>\n",
       "      <td>1010.6</td>\n",
       "      <td>1007.8</td>\n",
       "      <td>NaN</td>\n",
       "      <td>NaN</td>\n",
       "      <td>17.2</td>\n",
       "      <td>24.3</td>\n",
       "      <td>No</td>\n",
       "      <td>No</td>\n",
       "    </tr>\n",
       "    <tr>\n",
       "      <th>2</th>\n",
       "      <td>2008-12-03</td>\n",
       "      <td>Albury</td>\n",
       "      <td>12.9</td>\n",
       "      <td>25.7</td>\n",
       "      <td>0.0</td>\n",
       "      <td>NaN</td>\n",
       "      <td>NaN</td>\n",
       "      <td>WSW</td>\n",
       "      <td>46.0</td>\n",
       "      <td>W</td>\n",
       "      <td>...</td>\n",
       "      <td>38.0</td>\n",
       "      <td>30.0</td>\n",
       "      <td>1007.6</td>\n",
       "      <td>1008.7</td>\n",
       "      <td>NaN</td>\n",
       "      <td>2.0</td>\n",
       "      <td>21.0</td>\n",
       "      <td>23.2</td>\n",
       "      <td>No</td>\n",
       "      <td>No</td>\n",
       "    </tr>\n",
       "    <tr>\n",
       "      <th>3</th>\n",
       "      <td>2008-12-04</td>\n",
       "      <td>Albury</td>\n",
       "      <td>9.2</td>\n",
       "      <td>28.0</td>\n",
       "      <td>0.0</td>\n",
       "      <td>NaN</td>\n",
       "      <td>NaN</td>\n",
       "      <td>NE</td>\n",
       "      <td>24.0</td>\n",
       "      <td>SE</td>\n",
       "      <td>...</td>\n",
       "      <td>45.0</td>\n",
       "      <td>16.0</td>\n",
       "      <td>1017.6</td>\n",
       "      <td>1012.8</td>\n",
       "      <td>NaN</td>\n",
       "      <td>NaN</td>\n",
       "      <td>18.1</td>\n",
       "      <td>26.5</td>\n",
       "      <td>No</td>\n",
       "      <td>No</td>\n",
       "    </tr>\n",
       "    <tr>\n",
       "      <th>4</th>\n",
       "      <td>2008-12-05</td>\n",
       "      <td>Albury</td>\n",
       "      <td>17.5</td>\n",
       "      <td>32.3</td>\n",
       "      <td>1.0</td>\n",
       "      <td>NaN</td>\n",
       "      <td>NaN</td>\n",
       "      <td>W</td>\n",
       "      <td>41.0</td>\n",
       "      <td>ENE</td>\n",
       "      <td>...</td>\n",
       "      <td>82.0</td>\n",
       "      <td>33.0</td>\n",
       "      <td>1010.8</td>\n",
       "      <td>1006.0</td>\n",
       "      <td>7.0</td>\n",
       "      <td>8.0</td>\n",
       "      <td>17.8</td>\n",
       "      <td>29.7</td>\n",
       "      <td>No</td>\n",
       "      <td>No</td>\n",
       "    </tr>\n",
       "  </tbody>\n",
       "</table>\n",
       "<p>5 rows × 23 columns</p>\n",
       "</div>"
      ],
      "text/plain": [
       "         Date Location  MinTemp  MaxTemp  Rainfall  Evaporation  Sunshine  \\\n",
       "0  2008-12-01   Albury     13.4     22.9       0.6          NaN       NaN   \n",
       "1  2008-12-02   Albury      7.4     25.1       0.0          NaN       NaN   \n",
       "2  2008-12-03   Albury     12.9     25.7       0.0          NaN       NaN   \n",
       "3  2008-12-04   Albury      9.2     28.0       0.0          NaN       NaN   \n",
       "4  2008-12-05   Albury     17.5     32.3       1.0          NaN       NaN   \n",
       "\n",
       "  WindGustDir  WindGustSpeed WindDir9am  ... Humidity9am  Humidity3pm  \\\n",
       "0           W           44.0          W  ...        71.0         22.0   \n",
       "1         WNW           44.0        NNW  ...        44.0         25.0   \n",
       "2         WSW           46.0          W  ...        38.0         30.0   \n",
       "3          NE           24.0         SE  ...        45.0         16.0   \n",
       "4           W           41.0        ENE  ...        82.0         33.0   \n",
       "\n",
       "   Pressure9am  Pressure3pm  Cloud9am  Cloud3pm  Temp9am  Temp3pm  RainToday  \\\n",
       "0       1007.7       1007.1       8.0       NaN     16.9     21.8         No   \n",
       "1       1010.6       1007.8       NaN       NaN     17.2     24.3         No   \n",
       "2       1007.6       1008.7       NaN       2.0     21.0     23.2         No   \n",
       "3       1017.6       1012.8       NaN       NaN     18.1     26.5         No   \n",
       "4       1010.8       1006.0       7.0       8.0     17.8     29.7         No   \n",
       "\n",
       "   RainTomorrow  \n",
       "0            No  \n",
       "1            No  \n",
       "2            No  \n",
       "3            No  \n",
       "4            No  \n",
       "\n",
       "[5 rows x 23 columns]"
      ]
     },
     "execution_count": 3,
     "metadata": {},
     "output_type": "execute_result"
    }
   ],
   "source": [
    "#Melihat 5 data teratas\n",
    "data.head()"
   ]
  },
  {
   "cell_type": "code",
   "execution_count": 4,
   "id": "9927c917",
   "metadata": {},
   "outputs": [
    {
     "data": {
      "text/plain": [
       "Index(['Date', 'Location', 'MinTemp', 'MaxTemp', 'Rainfall', 'Evaporation',\n",
       "       'Sunshine', 'WindGustDir', 'WindGustSpeed', 'WindDir9am', 'WindDir3pm',\n",
       "       'WindSpeed9am', 'WindSpeed3pm', 'Humidity9am', 'Humidity3pm',\n",
       "       'Pressure9am', 'Pressure3pm', 'Cloud9am', 'Cloud3pm', 'Temp9am',\n",
       "       'Temp3pm', 'RainToday', 'RainTomorrow'],\n",
       "      dtype='object')"
      ]
     },
     "execution_count": 4,
     "metadata": {},
     "output_type": "execute_result"
    }
   ],
   "source": [
    "#melihat semua nama column yang\n",
    "data.columns"
   ]
  },
  {
   "cell_type": "code",
   "execution_count": 5,
   "id": "65016250",
   "metadata": {},
   "outputs": [
    {
     "data": {
      "text/plain": [
       "<bound method NDFrame.describe of               Date Location  MinTemp  MaxTemp  Rainfall  Evaporation  \\\n",
       "0       2008-12-01   Albury     13.4     22.9       0.6          NaN   \n",
       "1       2008-12-02   Albury      7.4     25.1       0.0          NaN   \n",
       "2       2008-12-03   Albury     12.9     25.7       0.0          NaN   \n",
       "3       2008-12-04   Albury      9.2     28.0       0.0          NaN   \n",
       "4       2008-12-05   Albury     17.5     32.3       1.0          NaN   \n",
       "...            ...      ...      ...      ...       ...          ...   \n",
       "145455  2017-06-21    Uluru      2.8     23.4       0.0          NaN   \n",
       "145456  2017-06-22    Uluru      3.6     25.3       0.0          NaN   \n",
       "145457  2017-06-23    Uluru      5.4     26.9       0.0          NaN   \n",
       "145458  2017-06-24    Uluru      7.8     27.0       0.0          NaN   \n",
       "145459  2017-06-25    Uluru     14.9      NaN       0.0          NaN   \n",
       "\n",
       "        Sunshine WindGustDir  WindGustSpeed WindDir9am  ... Humidity9am  \\\n",
       "0            NaN           W           44.0          W  ...        71.0   \n",
       "1            NaN         WNW           44.0        NNW  ...        44.0   \n",
       "2            NaN         WSW           46.0          W  ...        38.0   \n",
       "3            NaN          NE           24.0         SE  ...        45.0   \n",
       "4            NaN           W           41.0        ENE  ...        82.0   \n",
       "...          ...         ...            ...        ...  ...         ...   \n",
       "145455       NaN           E           31.0         SE  ...        51.0   \n",
       "145456       NaN         NNW           22.0         SE  ...        56.0   \n",
       "145457       NaN           N           37.0         SE  ...        53.0   \n",
       "145458       NaN          SE           28.0        SSE  ...        51.0   \n",
       "145459       NaN         NaN            NaN        ESE  ...        62.0   \n",
       "\n",
       "        Humidity3pm  Pressure9am  Pressure3pm  Cloud9am  Cloud3pm  Temp9am  \\\n",
       "0              22.0       1007.7       1007.1       8.0       NaN     16.9   \n",
       "1              25.0       1010.6       1007.8       NaN       NaN     17.2   \n",
       "2              30.0       1007.6       1008.7       NaN       2.0     21.0   \n",
       "3              16.0       1017.6       1012.8       NaN       NaN     18.1   \n",
       "4              33.0       1010.8       1006.0       7.0       8.0     17.8   \n",
       "...             ...          ...          ...       ...       ...      ...   \n",
       "145455         24.0       1024.6       1020.3       NaN       NaN     10.1   \n",
       "145456         21.0       1023.5       1019.1       NaN       NaN     10.9   \n",
       "145457         24.0       1021.0       1016.8       NaN       NaN     12.5   \n",
       "145458         24.0       1019.4       1016.5       3.0       2.0     15.1   \n",
       "145459         36.0       1020.2       1017.9       8.0       8.0     15.0   \n",
       "\n",
       "        Temp3pm  RainToday  RainTomorrow  \n",
       "0          21.8         No            No  \n",
       "1          24.3         No            No  \n",
       "2          23.2         No            No  \n",
       "3          26.5         No            No  \n",
       "4          29.7         No            No  \n",
       "...         ...        ...           ...  \n",
       "145455     22.4         No            No  \n",
       "145456     24.5         No            No  \n",
       "145457     26.1         No            No  \n",
       "145458     26.0         No            No  \n",
       "145459     20.9         No           NaN  \n",
       "\n",
       "[145460 rows x 23 columns]>"
      ]
     },
     "execution_count": 5,
     "metadata": {},
     "output_type": "execute_result"
    }
   ],
   "source": [
    "#Melihat lebih detail dari data yang ada\n",
    "data.describe"
   ]
  },
  {
   "cell_type": "markdown",
   "id": "3b894ecb",
   "metadata": {},
   "source": [
    "# Data Cleaning\n",
    "membersihkan data dari missing value atau memberi nama baru untuk kolom"
   ]
  },
  {
   "cell_type": "code",
   "execution_count": 6,
   "id": "31ce0bf7",
   "metadata": {},
   "outputs": [],
   "source": [
    "#Data Cleaning\n",
    "column =[\"Rainfall\",\"Sunshine\",\"WindDir9am\",\"WindDir3pm\",\"Humidity9am\",\"Humidity3pm\",\"Pressure9am\",\"Pressure3pm\",\"Cloud9am\",\"Cloud3pm\",\"Temp9am\",\"Temp3pm\",\"RainToday\",\"RainTomorrow\"]"
   ]
  },
  {
   "cell_type": "code",
   "execution_count": 7,
   "id": "d5a2a107",
   "metadata": {},
   "outputs": [
    {
     "data": {
      "text/html": [
       "<div>\n",
       "<style scoped>\n",
       "    .dataframe tbody tr th:only-of-type {\n",
       "        vertical-align: middle;\n",
       "    }\n",
       "\n",
       "    .dataframe tbody tr th {\n",
       "        vertical-align: top;\n",
       "    }\n",
       "\n",
       "    .dataframe thead th {\n",
       "        text-align: right;\n",
       "    }\n",
       "</style>\n",
       "<table border=\"1\" class=\"dataframe\">\n",
       "  <thead>\n",
       "    <tr style=\"text-align: right;\">\n",
       "      <th></th>\n",
       "      <th>Rainfall</th>\n",
       "      <th>Sunshine</th>\n",
       "      <th>WindDir9am</th>\n",
       "      <th>WindDir3pm</th>\n",
       "      <th>Humidity9am</th>\n",
       "      <th>Humidity3pm</th>\n",
       "      <th>Pressure9am</th>\n",
       "      <th>Pressure3pm</th>\n",
       "      <th>Cloud9am</th>\n",
       "      <th>Cloud3pm</th>\n",
       "      <th>Temp9am</th>\n",
       "      <th>Temp3pm</th>\n",
       "      <th>RainToday</th>\n",
       "      <th>RainTomorrow</th>\n",
       "    </tr>\n",
       "  </thead>\n",
       "  <tbody>\n",
       "    <tr>\n",
       "      <th>0</th>\n",
       "      <td>0.6</td>\n",
       "      <td>NaN</td>\n",
       "      <td>W</td>\n",
       "      <td>WNW</td>\n",
       "      <td>71.0</td>\n",
       "      <td>22.0</td>\n",
       "      <td>1007.7</td>\n",
       "      <td>1007.1</td>\n",
       "      <td>8.0</td>\n",
       "      <td>NaN</td>\n",
       "      <td>16.9</td>\n",
       "      <td>21.8</td>\n",
       "      <td>No</td>\n",
       "      <td>No</td>\n",
       "    </tr>\n",
       "    <tr>\n",
       "      <th>1</th>\n",
       "      <td>0.0</td>\n",
       "      <td>NaN</td>\n",
       "      <td>NNW</td>\n",
       "      <td>WSW</td>\n",
       "      <td>44.0</td>\n",
       "      <td>25.0</td>\n",
       "      <td>1010.6</td>\n",
       "      <td>1007.8</td>\n",
       "      <td>NaN</td>\n",
       "      <td>NaN</td>\n",
       "      <td>17.2</td>\n",
       "      <td>24.3</td>\n",
       "      <td>No</td>\n",
       "      <td>No</td>\n",
       "    </tr>\n",
       "    <tr>\n",
       "      <th>2</th>\n",
       "      <td>0.0</td>\n",
       "      <td>NaN</td>\n",
       "      <td>W</td>\n",
       "      <td>WSW</td>\n",
       "      <td>38.0</td>\n",
       "      <td>30.0</td>\n",
       "      <td>1007.6</td>\n",
       "      <td>1008.7</td>\n",
       "      <td>NaN</td>\n",
       "      <td>2.0</td>\n",
       "      <td>21.0</td>\n",
       "      <td>23.2</td>\n",
       "      <td>No</td>\n",
       "      <td>No</td>\n",
       "    </tr>\n",
       "    <tr>\n",
       "      <th>3</th>\n",
       "      <td>0.0</td>\n",
       "      <td>NaN</td>\n",
       "      <td>SE</td>\n",
       "      <td>E</td>\n",
       "      <td>45.0</td>\n",
       "      <td>16.0</td>\n",
       "      <td>1017.6</td>\n",
       "      <td>1012.8</td>\n",
       "      <td>NaN</td>\n",
       "      <td>NaN</td>\n",
       "      <td>18.1</td>\n",
       "      <td>26.5</td>\n",
       "      <td>No</td>\n",
       "      <td>No</td>\n",
       "    </tr>\n",
       "    <tr>\n",
       "      <th>4</th>\n",
       "      <td>1.0</td>\n",
       "      <td>NaN</td>\n",
       "      <td>ENE</td>\n",
       "      <td>NW</td>\n",
       "      <td>82.0</td>\n",
       "      <td>33.0</td>\n",
       "      <td>1010.8</td>\n",
       "      <td>1006.0</td>\n",
       "      <td>7.0</td>\n",
       "      <td>8.0</td>\n",
       "      <td>17.8</td>\n",
       "      <td>29.7</td>\n",
       "      <td>No</td>\n",
       "      <td>No</td>\n",
       "    </tr>\n",
       "  </tbody>\n",
       "</table>\n",
       "</div>"
      ],
      "text/plain": [
       "   Rainfall  Sunshine WindDir9am WindDir3pm  Humidity9am  Humidity3pm  \\\n",
       "0       0.6       NaN          W        WNW         71.0         22.0   \n",
       "1       0.0       NaN        NNW        WSW         44.0         25.0   \n",
       "2       0.0       NaN          W        WSW         38.0         30.0   \n",
       "3       0.0       NaN         SE          E         45.0         16.0   \n",
       "4       1.0       NaN        ENE         NW         82.0         33.0   \n",
       "\n",
       "   Pressure9am  Pressure3pm  Cloud9am  Cloud3pm  Temp9am  Temp3pm RainToday  \\\n",
       "0       1007.7       1007.1       8.0       NaN     16.9     21.8        No   \n",
       "1       1010.6       1007.8       NaN       NaN     17.2     24.3        No   \n",
       "2       1007.6       1008.7       NaN       2.0     21.0     23.2        No   \n",
       "3       1017.6       1012.8       NaN       NaN     18.1     26.5        No   \n",
       "4       1010.8       1006.0       7.0       8.0     17.8     29.7        No   \n",
       "\n",
       "  RainTomorrow  \n",
       "0           No  \n",
       "1           No  \n",
       "2           No  \n",
       "3           No  \n",
       "4           No  "
      ]
     },
     "execution_count": 7,
     "metadata": {},
     "output_type": "execute_result"
    }
   ],
   "source": [
    "data_set = data[column]\n",
    "data_set.head()"
   ]
  },
  {
   "cell_type": "code",
   "execution_count": 8,
   "id": "051ec438",
   "metadata": {},
   "outputs": [
    {
     "data": {
      "text/plain": [
       "Rainfall         3261\n",
       "Sunshine        69835\n",
       "WindDir9am      10566\n",
       "WindDir3pm       4228\n",
       "Humidity9am      2654\n",
       "Humidity3pm      4507\n",
       "Pressure9am     15065\n",
       "Pressure3pm     15028\n",
       "Cloud9am        55888\n",
       "Cloud3pm        59358\n",
       "Temp9am          1767\n",
       "Temp3pm          3609\n",
       "RainToday        3261\n",
       "RainTomorrow     3267\n",
       "dtype: int64"
      ]
     },
     "execution_count": 8,
     "metadata": {},
     "output_type": "execute_result"
    }
   ],
   "source": [
    "#Melihat jumlah data yang kosong\n",
    "data_set.isnull().sum()"
   ]
  },
  {
   "cell_type": "code",
   "execution_count": 9,
   "id": "b95c2709",
   "metadata": {},
   "outputs": [],
   "source": [
    "#Mengganti nilai missing values Rainfall dengan nilai median\n",
    "median_rainfall = data_set[\"Rainfall\"].median()"
   ]
  },
  {
   "cell_type": "code",
   "execution_count": 10,
   "id": "976849c3",
   "metadata": {},
   "outputs": [
    {
     "name": "stderr",
     "output_type": "stream",
     "text": [
      "/home/lesmana/anaconda3/lib/python3.8/site-packages/pandas/core/series.py:4463: SettingWithCopyWarning: \n",
      "A value is trying to be set on a copy of a slice from a DataFrame\n",
      "\n",
      "See the caveats in the documentation: https://pandas.pydata.org/pandas-docs/stable/user_guide/indexing.html#returning-a-view-versus-a-copy\n",
      "  return super().fillna(\n"
     ]
    }
   ],
   "source": [
    "data_set['Rainfall'].fillna(median_rainfall, inplace=True)"
   ]
  },
  {
   "cell_type": "code",
   "execution_count": 11,
   "id": "9707dcde",
   "metadata": {},
   "outputs": [
    {
     "data": {
      "text/plain": [
       "0"
      ]
     },
     "execution_count": 11,
     "metadata": {},
     "output_type": "execute_result"
    }
   ],
   "source": [
    "data_set[\"Rainfall\"].isnull().sum()"
   ]
  },
  {
   "cell_type": "code",
   "execution_count": 12,
   "id": "ff1387f0",
   "metadata": {},
   "outputs": [],
   "source": [
    "#Mengganti nilai missing values RSunshine dengan nilai median\n",
    "median_sunshine = data_set[\"Sunshine\"].median()"
   ]
  },
  {
   "cell_type": "code",
   "execution_count": 13,
   "id": "db183cb6",
   "metadata": {},
   "outputs": [],
   "source": [
    "data_set['Sunshine'].fillna(median_sunshine, inplace=True)"
   ]
  },
  {
   "cell_type": "code",
   "execution_count": 14,
   "id": "e7da5e3e",
   "metadata": {},
   "outputs": [
    {
     "data": {
      "text/plain": [
       "0"
      ]
     },
     "execution_count": 14,
     "metadata": {},
     "output_type": "execute_result"
    }
   ],
   "source": [
    "data_set['Sunshine'].isnull().sum()"
   ]
  },
  {
   "cell_type": "code",
   "execution_count": 15,
   "id": "8a4f8145",
   "metadata": {},
   "outputs": [],
   "source": [
    "#Mengganti nilai missing values WindDir9am\n",
    "data_set[\"WindDir9am\"].fillna(\"E\", inplace=True)"
   ]
  },
  {
   "cell_type": "code",
   "execution_count": 16,
   "id": "7a603243",
   "metadata": {},
   "outputs": [
    {
     "data": {
      "text/plain": [
       "0"
      ]
     },
     "execution_count": 16,
     "metadata": {},
     "output_type": "execute_result"
    }
   ],
   "source": [
    "data_set[\"WindDir9am\"].isnull().sum()"
   ]
  },
  {
   "cell_type": "code",
   "execution_count": 17,
   "id": "ed2cb831",
   "metadata": {},
   "outputs": [],
   "source": [
    "#Mengganti nilai missing values WindDir3pm\n",
    "data_set[\"WindDir3pm\"].fillna(\"E\", inplace=True)"
   ]
  },
  {
   "cell_type": "code",
   "execution_count": 18,
   "id": "6a09d9eb",
   "metadata": {},
   "outputs": [
    {
     "data": {
      "text/plain": [
       "0"
      ]
     },
     "execution_count": 18,
     "metadata": {},
     "output_type": "execute_result"
    }
   ],
   "source": [
    "data_set[\"WindDir3pm\"].isnull().sum()"
   ]
  },
  {
   "cell_type": "code",
   "execution_count": 19,
   "id": "5236807b",
   "metadata": {},
   "outputs": [],
   "source": [
    "#Mengganti nilai missing values Humidity9am dengan nilai median\n",
    "median_humidity9 = data_set[\"Humidity9am\"].median()"
   ]
  },
  {
   "cell_type": "code",
   "execution_count": 20,
   "id": "b5044c7b",
   "metadata": {},
   "outputs": [],
   "source": [
    "data_set['Humidity9am'].fillna(median_humidity9, inplace=True)"
   ]
  },
  {
   "cell_type": "code",
   "execution_count": 21,
   "id": "26502839",
   "metadata": {},
   "outputs": [],
   "source": [
    "#Mengganti nilai missing values Humidity3pm dengan nilai median\n",
    "median_humidity3 = data_set[\"Humidity3pm\"].median()"
   ]
  },
  {
   "cell_type": "code",
   "execution_count": 22,
   "id": "956dc9c6",
   "metadata": {},
   "outputs": [],
   "source": [
    "data_set['Humidity3pm'].fillna(median_humidity3, inplace=True)"
   ]
  },
  {
   "cell_type": "code",
   "execution_count": 23,
   "id": "b43c73f7",
   "metadata": {},
   "outputs": [],
   "source": [
    "#Mengganti nilai missing values Preasure9am dengan nilai median\n",
    "median_pressure9 = data_set[\"Pressure9am\"].median()"
   ]
  },
  {
   "cell_type": "code",
   "execution_count": 24,
   "id": "d70eafec",
   "metadata": {},
   "outputs": [],
   "source": [
    "data_set['Pressure9am'].fillna(median_pressure9, inplace=True)"
   ]
  },
  {
   "cell_type": "code",
   "execution_count": 25,
   "id": "770bc524",
   "metadata": {},
   "outputs": [],
   "source": [
    "#Mengganti nilai missing values Preasure3pm dengan nilai median\n",
    "median_pressure3 = data_set[\"Pressure3pm\"].median()"
   ]
  },
  {
   "cell_type": "code",
   "execution_count": 26,
   "id": "0c967cb9",
   "metadata": {},
   "outputs": [],
   "source": [
    "data_set['Pressure3pm'].fillna(median_pressure3, inplace=True)"
   ]
  },
  {
   "cell_type": "code",
   "execution_count": 27,
   "id": "30131590",
   "metadata": {},
   "outputs": [],
   "source": [
    "#Mengganti nilai missing values Cloud9am dengan nilai median\n",
    "median_cloud9 = data_set[\"Cloud9am\"].median()"
   ]
  },
  {
   "cell_type": "code",
   "execution_count": 28,
   "id": "2b777b8a",
   "metadata": {},
   "outputs": [],
   "source": [
    "data_set['Cloud9am'].fillna(median_cloud9, inplace=True)"
   ]
  },
  {
   "cell_type": "code",
   "execution_count": 29,
   "id": "55241aab",
   "metadata": {},
   "outputs": [],
   "source": [
    "#Mengganti nilai missing values Cloud3pm dengan nilai median\n",
    "median_cloud3 = data_set[\"Cloud3pm\"].median()"
   ]
  },
  {
   "cell_type": "code",
   "execution_count": 30,
   "id": "3fad957f",
   "metadata": {},
   "outputs": [],
   "source": [
    "data_set['Cloud3pm'].fillna(median_cloud3, inplace=True)"
   ]
  },
  {
   "cell_type": "code",
   "execution_count": 31,
   "id": "4f42a1c9",
   "metadata": {},
   "outputs": [],
   "source": [
    "#Mengganti nilai missing values Temperature9am dengan nilai median\n",
    "median_temp9am = data_set[\"Temp9am\"].median()"
   ]
  },
  {
   "cell_type": "code",
   "execution_count": 32,
   "id": "8e66f314",
   "metadata": {},
   "outputs": [],
   "source": [
    "data_set['Temp9am'].fillna(median_temp9am, inplace=True)"
   ]
  },
  {
   "cell_type": "code",
   "execution_count": 33,
   "id": "84405c98",
   "metadata": {},
   "outputs": [],
   "source": [
    "#Mengganti nilai missing values Temperature3pm dengan nilai median\n",
    "median_temp3pm = data_set[\"Temp3pm\"].median()"
   ]
  },
  {
   "cell_type": "code",
   "execution_count": 34,
   "id": "6369724a",
   "metadata": {},
   "outputs": [],
   "source": [
    "data_set['Temp3pm'].fillna(median_temp3pm, inplace=True)"
   ]
  },
  {
   "cell_type": "code",
   "execution_count": 35,
   "id": "beabd25f",
   "metadata": {},
   "outputs": [],
   "source": [
    "#Mengganti nilai missing values RainToday\n",
    "data_set[\"RainToday\"].fillna(\"Yes\", inplace=True)"
   ]
  },
  {
   "cell_type": "code",
   "execution_count": 36,
   "id": "8b0f02fd",
   "metadata": {},
   "outputs": [],
   "source": [
    "#Mengganti nilai missing values RainTomorrow\n",
    "data_set[\"RainTomorrow\"].fillna(\"Yes\", inplace=True)"
   ]
  },
  {
   "cell_type": "code",
   "execution_count": 37,
   "id": "28778f95",
   "metadata": {},
   "outputs": [
    {
     "data": {
      "text/plain": [
       "Rainfall        0\n",
       "Sunshine        0\n",
       "WindDir9am      0\n",
       "WindDir3pm      0\n",
       "Humidity9am     0\n",
       "Humidity3pm     0\n",
       "Pressure9am     0\n",
       "Pressure3pm     0\n",
       "Cloud9am        0\n",
       "Cloud3pm        0\n",
       "Temp9am         0\n",
       "Temp3pm         0\n",
       "RainToday       0\n",
       "RainTomorrow    0\n",
       "dtype: int64"
      ]
     },
     "execution_count": 37,
     "metadata": {},
     "output_type": "execute_result"
    }
   ],
   "source": [
    "data_set.isnull().sum()"
   ]
  },
  {
   "cell_type": "markdown",
   "id": "d33153fc",
   "metadata": {},
   "source": [
    "# Explorasi Data"
   ]
  },
  {
   "cell_type": "code",
   "execution_count": 38,
   "id": "6030fd80",
   "metadata": {},
   "outputs": [
    {
     "name": "stdout",
     "output_type": "stream",
     "text": [
      "Dimensi Feature (145460, 13)\n",
      "Dimensi Target (145460, 1)\n"
     ]
    }
   ],
   "source": [
    "feature = [\"Rainfall\",\"Sunshine\",\"WindDir9am\",\"WindDir3pm\",\"Humidity9am\",\"Humidity3pm\",\"Pressure9am\",\"Pressure3pm\",\"Cloud9am\",\"Cloud3pm\",\"Temp9am\",\"Temp3pm\",\"RainToday\"]\n",
    "target = [\"RainTomorrow\"]\n",
    "print(\"Dimensi Feature\", data_set[feature].shape)\n",
    "print(\"Dimensi Target\",data_set[target].shape)"
   ]
  },
  {
   "cell_type": "code",
   "execution_count": 42,
   "id": "2a2d97fa",
   "metadata": {},
   "outputs": [
    {
     "data": {
      "text/plain": [
       "E      19742\n",
       "N      11758\n",
       "SE      9287\n",
       "SSE     9112\n",
       "NW      8749\n",
       "S       8659\n",
       "W       8459\n",
       "SW      8423\n",
       "NNE     8129\n",
       "NNW     7980\n",
       "ENE     7836\n",
       "NE      7671\n",
       "ESE     7630\n",
       "SSW     7587\n",
       "WNW     7414\n",
       "WSW     7024\n",
       "Name: WindDir9am, dtype: int64"
      ]
     },
     "execution_count": 42,
     "metadata": {},
     "output_type": "execute_result"
    }
   ],
   "source": [
    "#melihat jumlah column9am\n",
    "wind9am_count = data_set['WindDir9am'].value_counts()\n",
    "wind9am_count"
   ]
  },
  {
   "cell_type": "code",
   "execution_count": 41,
   "id": "b64b0ba0",
   "metadata": {},
   "outputs": [
    {
     "data": {
      "text/plain": [
       "[Text(0.5, 1.0, 'Distribusi wind9am')]"
      ]
     },
     "execution_count": 41,
     "metadata": {},
     "output_type": "execute_result"
    },
    {
     "data": {
      "image/png": "[encoded data removed]",
      "text/plain": [
       "<Figure size 576x360 with 1 Axes>"
      ]
     },
     "metadata": {
      "needs_background": "light"
     },
     "output_type": "display_data"
    }
   ],
   "source": [
    "#melihat distribusi wind9am\n",
    "plt.figure(figsize = (8, 5))\n",
    "wind9am_count.plot(kind = \"bar\").set(title = \"Distribusi wind9am\")"
   ]
  },
  {
   "cell_type": "markdown",
   "id": "9df23f77",
   "metadata": {},
   "source": [
    "# Data Preprocessing"
   ]
  },
  {
   "cell_type": "code",
   "execution_count": null,
   "id": "eac0d34e",
   "metadata": {},
   "outputs": [],
   "source": [
    "#Encoding RainToday dan RainTomorrow\n",
    "le = preprocessing.LabelEncoder()"
   ]
  },
  {
   "cell_type": "code",
   "execution_count": null,
   "id": "cb65ebc5",
   "metadata": {},
   "outputs": [],
   "source": [
    "#Encoding RainToday\n",
    "data_set[\"RainToday\"] = le.fit_transform(data_set[\"RainToday\"])"
   ]
  },
  {
   "cell_type": "code",
   "execution_count": null,
   "id": "509832c0",
   "metadata": {},
   "outputs": [],
   "source": [
    "#encoding RainTomorrow\n",
    "data_set[\"RainTomorrow\"] = le.fit_transform(data_set[\"RainTomorrow\"])"
   ]
  },
  {
   "cell_type": "code",
   "execution_count": null,
   "id": "22b6d593",
   "metadata": {},
   "outputs": [],
   "source": [
    "#Encoding WindDir9am\n",
    "data_set['WindDir9am']=le.fit_transform(data_set['WindDir9am'])"
   ]
  },
  {
   "cell_type": "code",
   "execution_count": null,
   "id": "d0d497d4",
   "metadata": {},
   "outputs": [],
   "source": [
    "#Encoding WindDir3pm\n",
    "data_set['WindDir3pm']=le.fit_transform(data_set['WindDir3pm'])"
   ]
  },
  {
   "cell_type": "code",
   "execution_count": null,
   "id": "3a8fc22a",
   "metadata": {},
   "outputs": [],
   "source": [
    "feature = [\"Rainfall\",\"Sunshine\",\"WindDir9am\",\"WindDir3pm\",\"Humidity9am\",\"Humidity3pm\",\"Pressure9am\",\"Pressure3pm\",\"Cloud9am\",\"Cloud3pm\",\"Temp9am\",\"Temp3pm\",\"RainToday\"]\n",
    "target = [\"RainTomorrow\"]"
   ]
  },
  {
   "cell_type": "code",
   "execution_count": null,
   "id": "a9ffaecf",
   "metadata": {},
   "outputs": [],
   "source": [
    "#Melihat dimensi featur\n",
    "data_set[feature].shape"
   ]
  },
  {
   "cell_type": "code",
   "execution_count": null,
   "id": "e375d1c2",
   "metadata": {},
   "outputs": [],
   "source": [
    "#Melihat dimensi target\n",
    "data_set[target].shape"
   ]
  },
  {
   "cell_type": "markdown",
   "id": "f3780aa4",
   "metadata": {},
   "source": [
    "# Preprocessing"
   ]
  },
  {
   "cell_type": "code",
   "execution_count": null,
   "id": "f0d1193a",
   "metadata": {},
   "outputs": [],
   "source": [
    "#saya menggunakan 70% data training dan 30% data test\n",
    "X_train, X_test, y_train, y_test = train_test_split(data_set[feature], data_set[target], test_size=0.3, random_state=109)"
   ]
  },
  {
   "cell_type": "markdown",
   "id": "ba4c52c9",
   "metadata": {},
   "source": [
    "# Pendefinisian Model"
   ]
  },
  {
   "cell_type": "code",
   "execution_count": null,
   "id": "23c4d181",
   "metadata": {},
   "outputs": [],
   "source": [
    "#Membuat clasifier\n",
    "clf = svm.SVC()"
   ]
  },
  {
   "cell_type": "markdown",
   "id": "0d34af5c",
   "metadata": {},
   "source": [
    "# Pelatihan Model"
   ]
  },
  {
   "cell_type": "code",
   "execution_count": null,
   "id": "9e733e57",
   "metadata": {},
   "outputs": [],
   "source": [
    "sc = StandardScaler()\n",
    "X_train = sc.fit_transform(X_train)\n",
    "X_test = sc.transform(X_test)\n",
    "y_train = np.ravel(y_train)"
   ]
  },
  {
   "cell_type": "code",
   "execution_count": null,
   "id": "674cf6bd",
   "metadata": {},
   "outputs": [],
   "source": [
    "#pelatihan model dengan training set yang telah dibuat\n",
    "clf.fit(X_train,y_train)"
   ]
  },
  {
   "cell_type": "code",
   "execution_count": null,
   "id": "d2a91082",
   "metadata": {},
   "outputs": [],
   "source": [
    "#Membuat prediksi\n",
    "y_pred = clf.predict(X_test)"
   ]
  },
  {
   "cell_type": "markdown",
   "id": "3ce24891",
   "metadata": {},
   "source": [
    "# EValuasi Model"
   ]
  },
  {
   "cell_type": "code",
   "execution_count": null,
   "id": "5da0c63e",
   "metadata": {},
   "outputs": [],
   "source": [
    "#Model accuracy\n",
    "print(\"Accuracy : \",metrics.accuracy_score(y_test,y_pred))"
   ]
  },
  {
   "cell_type": "code",
   "execution_count": null,
   "id": "e1f1ea08",
   "metadata": {},
   "outputs": [],
   "source": [
    "#Model Precision\n",
    "print(\"Precision : \",metrics.precision_score(y_test,y_pred))\n",
    "\n",
    "#Model Recall\n",
    "print(\"Recall : \",metrics.recall_score(y_test,y_pred))"
   ]
  },
  {
   "cell_type": "markdown",
   "id": "944a4913",
   "metadata": {},
   "source": [
    "# Kesimpulan\n",
    "Kesimpulan yang dapat diambil dari model yang telah dibuat yaitu akurasi dari model yangdibuat menggunakan algoritma SVM (Support Vector Machine) sebesar 0.83 atau sekitar 83%, ini menunjukan bahwa model yang dibangun cukup akurat"
   ]
  }
 ],
 "metadata": {
  "kernelspec": {
   "display_name": "Python 3",
   "language": "python",
   "name": "python3"
  },
  "language_info": {
   "codemirror_mode": {
    "name": "ipython",
    "version": 3
   },
   "file_extension": ".py",
   "mimetype": "text/x-python",
   "name": "python",
   "nbconvert_exporter": "python",
   "pygments_lexer": "ipython3",
   "version": "3.8.8"
  }
 },
 "nbformat": 4,
 "nbformat_minor": 5
}
